{
 "cells": [
  {
   "cell_type": "markdown",
   "id": "21954eae-acf8-4664-a7a3-608cec88634c",
   "metadata": {},
   "source": [
    "# ANA680 – Problem 2B (With Container Technology)\n",
    "Linear Regression using the SageMaker **SKLearn container**: train, deploy, invoke, and clean up."
   ]
  },
  {
   "cell_type": "code",
   "execution_count": 1,
   "id": "dee6c592-4473-406a-a522-b7a232beb016",
   "metadata": {
    "execution": {
     "iopub.execute_input": "2025-08-25T06:28:34.794358Z",
     "iopub.status.busy": "2025-08-25T06:28:34.794103Z",
     "iopub.status.idle": "2025-08-25T06:28:37.448508Z",
     "shell.execute_reply": "2025-08-25T06:28:37.447604Z",
     "shell.execute_reply.started": "2025-08-25T06:28:34.794338Z"
    }
   },
   "outputs": [
    {
     "name": "stdout",
     "output_type": "stream",
     "text": [
      "sagemaker.config INFO - Not applying SDK defaults from location: /etc/xdg/sagemaker/config.yaml\n",
      "sagemaker.config INFO - Not applying SDK defaults from location: /home/sagemaker-user/.config/sagemaker/config.yaml\n"
     ]
    }
   ],
   "source": [
    "import os\n",
    "import json\n",
    "import pandas as pd\n",
    "\n",
    "import boto3\n",
    "import sagemaker\n",
    "from sagemaker.s3 import S3Uploader\n",
    "from sagemaker.sklearn.estimator import SKLearn\n",
    "from sagemaker.sklearn.model import SKLearnModel\n",
    "from sagemaker.serializers import CSVSerializer\n",
    "from sagemaker.deserializers import StringDeserializer"
   ]
  },
  {
   "cell_type": "code",
   "execution_count": 2,
   "id": "22c7ba85-7141-4e07-8f89-6aacb08a7d63",
   "metadata": {
    "execution": {
     "iopub.execute_input": "2025-08-25T06:28:38.642657Z",
     "iopub.status.busy": "2025-08-25T06:28:38.642373Z",
     "iopub.status.idle": "2025-08-25T06:28:39.162965Z",
     "shell.execute_reply": "2025-08-25T06:28:39.162107Z",
     "shell.execute_reply.started": "2025-08-25T06:28:38.642634Z"
    }
   },
   "outputs": [
    {
     "name": "stdout",
     "output_type": "stream",
     "text": [
      "Role: arn:aws:iam::167819473785:role/service-role/AmazonSageMaker-ExecutionRole-20250824T160549\n",
      "Region: us-east-2\n",
      "Bucket: sagemaker-us-east-2-167819473785\n",
      "S3 prefix: ana680/wine-quality\n"
     ]
    }
   ],
   "source": [
    "# SageMaker session / config\n",
    "sess   = sagemaker.Session()\n",
    "role   = sagemaker.get_execution_role()\n",
    "region = sess.boto_region_name\n",
    "bucket = sess.default_bucket()                     # e.g., sagemaker-<region>-<acctid>\n",
    "prefix = \"ana680/wine-quality\"                    # folder prefix in S3\n",
    "\n",
    "print(\"Role:\", role)\n",
    "print(\"Region:\", region)\n",
    "print(\"Bucket:\", bucket)\n",
    "print(\"S3 prefix:\", prefix)"
   ]
  },
  {
   "cell_type": "markdown",
   "id": "cff34e06-a4fe-44cf-8f59-e1445b7b8efd",
   "metadata": {},
   "source": [
    "## Prepare & Upload Data\n",
    "We combine the red and white wine CSVs into one dataset, save locally, and upload to S3 for training."
   ]
  },
  {
   "cell_type": "code",
   "execution_count": 3,
   "id": "5a5b7b8b-9913-4292-8282-56b858a64a09",
   "metadata": {
    "execution": {
     "iopub.execute_input": "2025-08-25T06:28:41.456961Z",
     "iopub.status.busy": "2025-08-25T06:28:41.456683Z",
     "iopub.status.idle": "2025-08-25T06:28:41.818089Z",
     "shell.execute_reply": "2025-08-25T06:28:41.817334Z",
     "shell.execute_reply.started": "2025-08-25T06:28:41.456940Z"
    }
   },
   "outputs": [
    {
     "name": "stdout",
     "output_type": "stream",
     "text": [
      "Combined shape: (6497, 13)\n",
      "S3 training data: s3://sagemaker-us-east-2-167819473785/ana680/wine-quality/training/winequality_combined.csv\n",
      "Number of features: 11\n"
     ]
    },
    {
     "data": {
      "text/plain": [
       "['fixed acidity',\n",
       " 'volatile acidity',\n",
       " 'citric acid',\n",
       " 'residual sugar',\n",
       " 'chlorides',\n",
       " 'free sulfur dioxide',\n",
       " 'total sulfur dioxide',\n",
       " 'density',\n",
       " 'pH',\n",
       " 'sulphates',\n",
       " 'alcohol']"
      ]
     },
     "execution_count": 3,
     "metadata": {},
     "output_type": "execute_result"
    }
   ],
   "source": [
    "# Load datasets\n",
    "red   = pd.read_csv(\"winequality-red.csv\", sep=\";\")\n",
    "white = pd.read_csv(\"winequality-white.csv\", sep=\";\")\n",
    "\n",
    "# Add labels for type\n",
    "red[\"type\"] = \"red\"\n",
    "white[\"type\"] = \"white\"\n",
    "\n",
    "# Combine\n",
    "df = pd.concat([red, white], ignore_index=True)\n",
    "print(\"Combined shape:\", df.shape)\n",
    "\n",
    "# Save locally\n",
    "local_train_path = \"winequality_combined.csv\"\n",
    "df.to_csv(local_train_path, index=False)\n",
    "\n",
    "# Upload to S3\n",
    "s3_train_uri = S3Uploader.upload(\n",
    "    local_path=local_train_path,\n",
    "    desired_s3_uri=f\"s3://{bucket}/{prefix}/training\"\n",
    ")\n",
    "print(\"S3 training data:\", s3_train_uri)\n",
    "\n",
    "# Keep feature order for inference\n",
    "FEATURES = [c for c in df.columns if c not in (\"quality\", \"type\")]\n",
    "print(\"Number of features:\", len(FEATURES))\n",
    "feature_order = [c for c in df.columns if c not in (\"quality\", \"type\")]\n",
    "feature_order"
   ]
  },
  {
   "cell_type": "markdown",
   "id": "d44e28a3-118a-4d39-a8f6-5f5ca42e35d7",
   "metadata": {},
   "source": [
    "## Training Script\n",
    "This script will be executed inside the SKLearn container."
   ]
  },
  {
   "cell_type": "code",
   "execution_count": 4,
   "id": "e638b15f-f0c3-4f82-9042-8c7f31d6b65f",
   "metadata": {
    "execution": {
     "iopub.execute_input": "2025-08-25T06:28:47.882527Z",
     "iopub.status.busy": "2025-08-25T06:28:47.882108Z",
     "iopub.status.idle": "2025-08-25T06:28:47.888690Z",
     "shell.execute_reply": "2025-08-25T06:28:47.887933Z",
     "shell.execute_reply.started": "2025-08-25T06:28:47.882501Z"
    }
   },
   "outputs": [
    {
     "name": "stdout",
     "output_type": "stream",
     "text": [
      "Overwriting train.py\n"
     ]
    }
   ],
   "source": [
    "%%writefile train.py\n",
    "import os\n",
    "import pandas as pd\n",
    "from sklearn.linear_model import LinearRegression\n",
    "import joblib\n",
    "\n",
    "def main():\n",
    "    # SageMaker I/O env\n",
    "    input_dir = os.environ.get(\"SM_CHANNEL_TRAINING\", \"/opt/ml/input/data/training\")\n",
    "    model_dir = os.environ.get(\"SM_MODEL_DIR\", \"/opt/ml/model\")\n",
    "\n",
    "    data_path = os.path.join(input_dir, \"winequality_combined.csv\")\n",
    "    print(f\"[INFO] Reading data from: {data_path}\")\n",
    "\n",
    "    df = pd.read_csv(data_path)  # our combined CSV is comma-separated\n",
    "\n",
    "    drop_cols = [c for c in [\"quality\", \"type\"] if c in df.columns]\n",
    "    X = df.drop(columns=drop_cols)\n",
    "    y = df[\"quality\"]\n",
    "\n",
    "    X = X.apply(pd.to_numeric, errors=\"coerce\")\n",
    "    y = pd.to_numeric(y, errors=\"coerce\")\n",
    "\n",
    "    print(f\"[INFO] X shape: {X.shape}, y shape: {y.shape}\")\n",
    "\n",
    "    model = LinearRegression()\n",
    "    model.fit(X, y)\n",
    "\n",
    "    out_path = os.path.join(model_dir, \"model.joblib\")\n",
    "    joblib.dump(model, out_path)\n",
    "    print(f\"[INFO] Saved model to: {out_path}\")\n",
    "\n",
    "if __name__ == \"__main__\":\n",
    "    main()"
   ]
  },
  {
   "cell_type": "markdown",
   "id": "220c9442-63aa-4871-a744-92072056935e",
   "metadata": {},
   "source": [
    "## Train in SageMaker\n",
    "Run the estimator inside the SKLearn container."
   ]
  },
  {
   "cell_type": "code",
   "execution_count": 5,
   "id": "c8beb82e-603c-466f-b53f-29ac5a6bad26",
   "metadata": {
    "execution": {
     "iopub.execute_input": "2025-08-25T06:28:56.889357Z",
     "iopub.status.busy": "2025-08-25T06:28:56.889089Z",
     "iopub.status.idle": "2025-08-25T06:31:44.465383Z",
     "shell.execute_reply": "2025-08-25T06:31:44.464602Z",
     "shell.execute_reply.started": "2025-08-25T06:28:56.889337Z"
    }
   },
   "outputs": [
    {
     "name": "stderr",
     "output_type": "stream",
     "text": [
      "INFO:sagemaker:Creating training-job with name: wine-quality-lr-2025-08-25-06-28-57-530\n"
     ]
    },
    {
     "name": "stdout",
     "output_type": "stream",
     "text": [
      "2025-08-25 06:28:59 Starting - Starting the training job...\n",
      "2025-08-25 06:29:14 Starting - Preparing the instances for training...\n",
      "2025-08-25 06:30:00 Downloading - Downloading the training image........\u001b[34m/miniconda3/lib/python3.9/site-packages/sagemaker_containers/_server.py:22: UserWarning: pkg_resources is deprecated as an API. See https://setuptools.pypa.io/en/latest/pkg_resources.html. The pkg_resources package is slated for removal as early as 2025-11-30. Refrain from using this package or pin to Setuptools<81.\n",
      "  import pkg_resources\u001b[0m\n",
      "\u001b[34m2025-08-25 06:31:09,996 sagemaker-containers INFO     Imported framework sagemaker_sklearn_container.training\u001b[0m\n",
      "\u001b[34m2025-08-25 06:31:09,999 sagemaker-training-toolkit INFO     No GPUs detected (normal if no gpus installed)\u001b[0m\n",
      "\u001b[34m2025-08-25 06:31:10,002 sagemaker-training-toolkit INFO     No Neurons detected (normal if no neurons installed)\u001b[0m\n",
      "\u001b[34m2025-08-25 06:31:10,019 sagemaker_sklearn_container.training INFO     Invoking user training script.\u001b[0m\n",
      "\u001b[34m2025-08-25 06:31:10,286 sagemaker-training-toolkit INFO     No GPUs detected (normal if no gpus installed)\u001b[0m\n",
      "\u001b[34m2025-08-25 06:31:10,289 sagemaker-training-toolkit INFO     No Neurons detected (normal if no neurons installed)\u001b[0m\n",
      "\u001b[34m2025-08-25 06:31:10,307 sagemaker-training-toolkit INFO     No GPUs detected (normal if no gpus installed)\u001b[0m\n",
      "\u001b[34m2025-08-25 06:31:10,309 sagemaker-training-toolkit INFO     No Neurons detected (normal if no neurons installed)\u001b[0m\n",
      "\u001b[34m2025-08-25 06:31:10,326 sagemaker-training-toolkit INFO     No GPUs detected (normal if no gpus installed)\u001b[0m\n",
      "\u001b[34m2025-08-25 06:31:10,328 sagemaker-training-toolkit INFO     No Neurons detected (normal if no neurons installed)\u001b[0m\n",
      "\u001b[34m2025-08-25 06:31:10,343 sagemaker-training-toolkit INFO     Invoking user script\u001b[0m\n",
      "\u001b[34mTraining Env:\u001b[0m\n",
      "\u001b[34m{\n",
      "    \"additional_framework_parameters\": {},\n",
      "    \"channel_input_dirs\": {\n",
      "        \"training\": \"/opt/ml/input/data/training\"\n",
      "    },\n",
      "    \"current_host\": \"algo-1\",\n",
      "    \"current_instance_group\": \"homogeneousCluster\",\n",
      "    \"current_instance_group_hosts\": [\n",
      "        \"algo-1\"\n",
      "    ],\n",
      "    \"current_instance_type\": \"ml.m5.large\",\n",
      "    \"distribution_hosts\": [],\n",
      "    \"distribution_instance_groups\": [],\n",
      "    \"framework_module\": \"sagemaker_sklearn_container.training:main\",\n",
      "    \"hosts\": [\n",
      "        \"algo-1\"\n",
      "    ],\n",
      "    \"hyperparameters\": {},\n",
      "    \"input_config_dir\": \"/opt/ml/input/config\",\n",
      "    \"input_data_config\": {\n",
      "        \"training\": {\n",
      "            \"TrainingInputMode\": \"File\",\n",
      "            \"S3DistributionType\": \"FullyReplicated\",\n",
      "            \"RecordWrapperType\": \"None\"\n",
      "        }\n",
      "    },\n",
      "    \"input_dir\": \"/opt/ml/input\",\n",
      "    \"instance_groups\": [\n",
      "        \"homogeneousCluster\"\n",
      "    ],\n",
      "    \"instance_groups_dict\": {\n",
      "        \"homogeneousCluster\": {\n",
      "            \"instance_group_name\": \"homogeneousCluster\",\n",
      "            \"instance_type\": \"ml.m5.large\",\n",
      "            \"hosts\": [\n",
      "                \"algo-1\"\n",
      "            ]\n",
      "        }\n",
      "    },\n",
      "    \"is_hetero\": false,\n",
      "    \"is_master\": true,\n",
      "    \"is_modelparallel_enabled\": null,\n",
      "    \"is_smddpmprun_installed\": false,\n",
      "    \"is_smddprun_installed\": false,\n",
      "    \"job_name\": \"wine-quality-lr-2025-08-25-06-28-57-530\",\n",
      "    \"log_level\": 20,\n",
      "    \"master_hostname\": \"algo-1\",\n",
      "    \"model_dir\": \"/opt/ml/model\",\n",
      "    \"module_dir\": \"s3://sagemaker-us-east-2-167819473785/wine-quality-lr-2025-08-25-06-28-57-530/source/sourcedir.tar.gz\",\n",
      "    \"module_name\": \"train\",\n",
      "    \"network_interface_name\": \"eth0\",\n",
      "    \"num_cpus\": 2,\n",
      "    \"num_gpus\": 0,\n",
      "    \"num_neurons\": 0,\n",
      "    \"output_data_dir\": \"/opt/ml/output/data\",\n",
      "    \"output_dir\": \"/opt/ml/output\",\n",
      "    \"output_intermediate_dir\": \"/opt/ml/output/intermediate\",\n",
      "    \"resource_config\": {\n",
      "        \"current_host\": \"algo-1\",\n",
      "        \"current_instance_type\": \"ml.m5.large\",\n",
      "        \"current_group_name\": \"homogeneousCluster\",\n",
      "        \"hosts\": [\n",
      "            \"algo-1\"\n",
      "        ],\n",
      "        \"instance_groups\": [\n",
      "            {\n",
      "                \"instance_group_name\": \"homogeneousCluster\",\n",
      "                \"instance_type\": \"ml.m5.large\",\n",
      "                \"hosts\": [\n",
      "                    \"algo-1\"\n",
      "                ]\n",
      "            }\n",
      "        ],\n",
      "        \"network_interface_name\": \"eth0\",\n",
      "        \"topology\": null\n",
      "    },\n",
      "    \"user_entry_point\": \"train.py\"\u001b[0m\n",
      "\u001b[34m}\u001b[0m\n",
      "\u001b[34mEnvironment variables:\u001b[0m\n",
      "\u001b[34mSM_HOSTS=[\"algo-1\"]\u001b[0m\n",
      "\u001b[34mSM_NETWORK_INTERFACE_NAME=eth0\u001b[0m\n",
      "\u001b[34mSM_HPS={}\u001b[0m\n",
      "\u001b[34mSM_USER_ENTRY_POINT=train.py\u001b[0m\n",
      "\u001b[34mSM_FRAMEWORK_PARAMS={}\u001b[0m\n",
      "\u001b[34mSM_RESOURCE_CONFIG={\"current_group_name\":\"homogeneousCluster\",\"current_host\":\"algo-1\",\"current_instance_type\":\"ml.m5.large\",\"hosts\":[\"algo-1\"],\"instance_groups\":[{\"hosts\":[\"algo-1\"],\"instance_group_name\":\"homogeneousCluster\",\"instance_type\":\"ml.m5.large\"}],\"network_interface_name\":\"eth0\",\"topology\":null}\u001b[0m\n",
      "\u001b[34mSM_INPUT_DATA_CONFIG={\"training\":{\"RecordWrapperType\":\"None\",\"S3DistributionType\":\"FullyReplicated\",\"TrainingInputMode\":\"File\"}}\u001b[0m\n",
      "\u001b[34mSM_OUTPUT_DATA_DIR=/opt/ml/output/data\u001b[0m\n",
      "\u001b[34mSM_CHANNELS=[\"training\"]\u001b[0m\n",
      "\u001b[34mSM_CURRENT_HOST=algo-1\u001b[0m\n",
      "\u001b[34mSM_CURRENT_INSTANCE_TYPE=ml.m5.large\u001b[0m\n",
      "\u001b[34mSM_CURRENT_INSTANCE_GROUP=homogeneousCluster\u001b[0m\n",
      "\u001b[34mSM_CURRENT_INSTANCE_GROUP_HOSTS=[\"algo-1\"]\u001b[0m\n",
      "\u001b[34mSM_INSTANCE_GROUPS=[\"homogeneousCluster\"]\u001b[0m\n",
      "\u001b[34mSM_INSTANCE_GROUPS_DICT={\"homogeneousCluster\":{\"hosts\":[\"algo-1\"],\"instance_group_name\":\"homogeneousCluster\",\"instance_type\":\"ml.m5.large\"}}\u001b[0m\n",
      "\u001b[34mSM_DISTRIBUTION_INSTANCE_GROUPS=[]\u001b[0m\n",
      "\u001b[34mSM_IS_HETERO=false\u001b[0m\n",
      "\u001b[34mSM_MODULE_NAME=train\u001b[0m\n",
      "\u001b[34mSM_LOG_LEVEL=20\u001b[0m\n",
      "\u001b[34mSM_FRAMEWORK_MODULE=sagemaker_sklearn_container.training:main\u001b[0m\n",
      "\u001b[34mSM_INPUT_DIR=/opt/ml/input\u001b[0m\n",
      "\u001b[34mSM_INPUT_CONFIG_DIR=/opt/ml/input/config\u001b[0m\n",
      "\u001b[34mSM_OUTPUT_DIR=/opt/ml/output\u001b[0m\n",
      "\u001b[34mSM_NUM_CPUS=2\u001b[0m\n",
      "\u001b[34mSM_NUM_GPUS=0\u001b[0m\n",
      "\u001b[34mSM_NUM_NEURONS=0\u001b[0m\n",
      "\u001b[34mSM_MODEL_DIR=/opt/ml/model\u001b[0m\n",
      "\u001b[34mSM_MODULE_DIR=s3://sagemaker-us-east-2-167819473785/wine-quality-lr-2025-08-25-06-28-57-530/source/sourcedir.tar.gz\u001b[0m\n",
      "\u001b[34mSM_TRAINING_ENV={\"additional_framework_parameters\":{},\"channel_input_dirs\":{\"training\":\"/opt/ml/input/data/training\"},\"current_host\":\"algo-1\",\"current_instance_group\":\"homogeneousCluster\",\"current_instance_group_hosts\":[\"algo-1\"],\"current_instance_type\":\"ml.m5.large\",\"distribution_hosts\":[],\"distribution_instance_groups\":[],\"framework_module\":\"sagemaker_sklearn_container.training:main\",\"hosts\":[\"algo-1\"],\"hyperparameters\":{},\"input_config_dir\":\"/opt/ml/input/config\",\"input_data_config\":{\"training\":{\"RecordWrapperType\":\"None\",\"S3DistributionType\":\"FullyReplicated\",\"TrainingInputMode\":\"File\"}},\"input_dir\":\"/opt/ml/input\",\"instance_groups\":[\"homogeneousCluster\"],\"instance_groups_dict\":{\"homogeneousCluster\":{\"hosts\":[\"algo-1\"],\"instance_group_name\":\"homogeneousCluster\",\"instance_type\":\"ml.m5.large\"}},\"is_hetero\":false,\"is_master\":true,\"is_modelparallel_enabled\":null,\"is_smddpmprun_installed\":false,\"is_smddprun_installed\":false,\"job_name\":\"wine-quality-lr-2025-08-25-06-28-57-530\",\"log_level\":20,\"master_hostname\":\"algo-1\",\"model_dir\":\"/opt/ml/model\",\"module_dir\":\"s3://sagemaker-us-east-2-167819473785/wine-quality-lr-2025-08-25-06-28-57-530/source/sourcedir.tar.gz\",\"module_name\":\"train\",\"network_interface_name\":\"eth0\",\"num_cpus\":2,\"num_gpus\":0,\"num_neurons\":0,\"output_data_dir\":\"/opt/ml/output/data\",\"output_dir\":\"/opt/ml/output\",\"output_intermediate_dir\":\"/opt/ml/output/intermediate\",\"resource_config\":{\"current_group_name\":\"homogeneousCluster\",\"current_host\":\"algo-1\",\"current_instance_type\":\"ml.m5.large\",\"hosts\":[\"algo-1\"],\"instance_groups\":[{\"hosts\":[\"algo-1\"],\"instance_group_name\":\"homogeneousCluster\",\"instance_type\":\"ml.m5.large\"}],\"network_interface_name\":\"eth0\",\"topology\":null},\"user_entry_point\":\"train.py\"}\u001b[0m\n",
      "\u001b[34mSM_USER_ARGS=[]\u001b[0m\n",
      "\u001b[34mSM_OUTPUT_INTERMEDIATE_DIR=/opt/ml/output/intermediate\u001b[0m\n",
      "\u001b[34mSM_CHANNEL_TRAINING=/opt/ml/input/data/training\u001b[0m\n",
      "\u001b[34mPYTHONPATH=/opt/ml/code:/miniconda3/bin:/miniconda3/lib/python39.zip:/miniconda3/lib/python3.9:/miniconda3/lib/python3.9/lib-dynload:/miniconda3/lib/python3.9/site-packages:/miniconda3/lib/python3.9/site-packages/setuptools/_vendor\u001b[0m\n",
      "\u001b[34mInvoking script with the following command:\u001b[0m\n",
      "\u001b[34m/miniconda3/bin/python train.py\u001b[0m\n",
      "\u001b[34m2025-08-25 06:31:10,345 sagemaker-training-toolkit INFO     Exceptions not imported for SageMaker Debugger as it is not installed.\u001b[0m\n",
      "\u001b[34m2025-08-25 06:31:10,346 sagemaker-training-toolkit INFO     Exceptions not imported for SageMaker TF as Tensorflow is not installed.\u001b[0m\n",
      "\u001b[34m[INFO] Reading data from: /opt/ml/input/data/training/winequality_combined.csv\u001b[0m\n",
      "\u001b[34m[INFO] X shape: (6497, 11), y shape: (6497,)\u001b[0m\n",
      "\u001b[34m[INFO] Saved model to: /opt/ml/model/model.joblib\u001b[0m\n",
      "\u001b[34m2025-08-25 06:31:11,259 sagemaker-containers INFO     Reporting training SUCCESS\u001b[0m\n",
      "\n",
      "2025-08-25 06:31:29 Training - Training image download completed. Training in progress.\n",
      "2025-08-25 06:31:29 Uploading - Uploading generated training model\n",
      "2025-08-25 06:31:29 Completed - Training job completed\n",
      "Training seconds: 114\n",
      "Billable seconds: 114\n"
     ]
    }
   ],
   "source": [
    "framework_version = \"1.2-1\"   # If your region lacks this, try \"1.4-1\" or \"1.0-1\"\n",
    "\n",
    "estimator = SKLearn(\n",
    "    entry_point       = \"train.py\",\n",
    "    role              = role,\n",
    "    instance_type     = \"ml.m5.large\",    # training instance\n",
    "    instance_count    = 1,\n",
    "    framework_version = framework_version,\n",
    "    py_version        = \"py3\",\n",
    "    base_job_name     = \"wine-quality-lr\"\n",
    ")\n",
    "\n",
    "estimator.fit({\"training\": s3_train_uri})"
   ]
  },
  {
   "cell_type": "markdown",
   "id": "05634c03-ee66-4633-a08e-9c633e3a02e4",
   "metadata": {},
   "source": [
    "## Create inference.py (tells the container how to load the model)\n",
    "Defines how input/output is handled for predictions."
   ]
  },
  {
   "cell_type": "code",
   "execution_count": 6,
   "id": "2b73a921-42d8-48ef-9e32-2fbcdb13f388",
   "metadata": {
    "execution": {
     "iopub.execute_input": "2025-08-25T06:33:21.120002Z",
     "iopub.status.busy": "2025-08-25T06:33:21.119611Z",
     "iopub.status.idle": "2025-08-25T06:33:21.127504Z",
     "shell.execute_reply": "2025-08-25T06:33:21.126756Z",
     "shell.execute_reply.started": "2025-08-25T06:33:21.119965Z"
    }
   },
   "outputs": [
    {
     "name": "stdout",
     "output_type": "stream",
     "text": [
      "Overwriting inference.py\n"
     ]
    }
   ],
   "source": [
    "%%writefile inference.py\n",
    "import os\n",
    "import json\n",
    "import joblib\n",
    "import pandas as pd\n",
    "\n",
    "# The 11 features used for training (combined red+white) in the SAME order\n",
    "FEATURES = [\n",
    "    \"fixed acidity\",\n",
    "    \"volatile acidity\",\n",
    "    \"citric acid\",\n",
    "    \"residual sugar\",\n",
    "    \"chlorides\",\n",
    "    \"free sulfur dioxide\",\n",
    "    \"total sulfur dioxide\",\n",
    "    \"density\",\n",
    "    \"pH\",\n",
    "    \"sulphates\",\n",
    "    \"alcohol\",\n",
    "]\n",
    "\n",
    "def model_fn(model_dir):\n",
    "    return joblib.load(os.path.join(model_dir, \"model.joblib\"))\n",
    "\n",
    "def input_fn(request_body, content_type=\"text/csv\"):\n",
    "    if content_type == \"text/csv\":\n",
    "        row = [float(x) for x in request_body.strip().split(\",\")]\n",
    "        return pd.DataFrame([row], columns=FEATURES)\n",
    "    elif content_type == \"application/json\":\n",
    "        obj = json.loads(request_body)\n",
    "        arr = obj.get(\"features\") or obj.get(\"data\")\n",
    "        return pd.DataFrame([arr], columns=FEATURES)\n",
    "    else:\n",
    "        raise ValueError(f\"Unsupported content type: {content_type}\")\n",
    "\n",
    "def predict_fn(input_data, model):\n",
    "    return model.predict(input_data)\n",
    "\n",
    "def output_fn(prediction, accept=\"text/csv\"):\n",
    "    val = float(prediction[0])\n",
    "    if accept == \"text/csv\":\n",
    "        return str(val)\n",
    "    elif accept == \"application/json\":\n",
    "        return json.dumps({\"prediction\": val})\n",
    "    else:\n",
    "        raise ValueError(f\"Unsupported accept: {accept}\")"
   ]
  },
  {
   "cell_type": "markdown",
   "id": "3dffa90f-c207-4b69-a035-c8fc87f58963",
   "metadata": {},
   "source": [
    "## Deploy the model as a real-time endpoint\n",
    "We deploy the trained artifact to a small instance and set the serializer to CSV."
   ]
  },
  {
   "cell_type": "code",
   "execution_count": 7,
   "id": "6f3595ed-f5bf-4a8c-91f5-08ef7230925d",
   "metadata": {
    "execution": {
     "iopub.execute_input": "2025-08-25T06:33:49.599175Z",
     "iopub.status.busy": "2025-08-25T06:33:49.598897Z",
     "iopub.status.idle": "2025-08-25T06:37:21.921835Z",
     "shell.execute_reply": "2025-08-25T06:37:21.921100Z",
     "shell.execute_reply.started": "2025-08-25T06:33:49.599154Z"
    }
   },
   "outputs": [
    {
     "name": "stderr",
     "output_type": "stream",
     "text": [
      "INFO:sagemaker:Creating model with name: sagemaker-scikit-learn-2025-08-25-06-33-50-111\n",
      "INFO:sagemaker:Creating endpoint-config with name sagemaker-scikit-learn-2025-08-25-06-33-50-639\n",
      "INFO:sagemaker:Creating endpoint with name sagemaker-scikit-learn-2025-08-25-06-33-50-639\n"
     ]
    },
    {
     "name": "stdout",
     "output_type": "stream",
     "text": [
      "------!Endpoint: sagemaker-scikit-learn-2025-08-25-06-33-50-639\n"
     ]
    }
   ],
   "source": [
    "# (optional) clean up old endpoint\n",
    "try:\n",
    "    predictor.delete_endpoint()\n",
    "except:\n",
    "    pass\n",
    "\n",
    "sk_model = SKLearnModel(\n",
    "    model_data        = estimator.model_data,\n",
    "    role              = role,\n",
    "    entry_point       = \"inference.py\",\n",
    "    framework_version = \"1.2-1\",\n",
    "    py_version        = \"py3\",\n",
    ")\n",
    "\n",
    "predictor = sk_model.deploy(\n",
    "    initial_instance_count=1,\n",
    "    instance_type=\"ml.m5.large\"\n",
    ")\n",
    "\n",
    "predictor.serializer   = CSVSerializer()         # send as CSV\n",
    "predictor.accept       = \"text/csv\"              # expect CSV\n",
    "predictor.deserializer = StringDeserializer()    # read textual responses\n",
    "print(\"Endpoint:\", predictor.endpoint_name)"
   ]
  },
  {
   "cell_type": "markdown",
   "id": "6c8474d6-445c-41c8-bb32-09873df2c3bb",
   "metadata": {},
   "source": [
    "## Smoke Test (Single Prediction)\n",
    "Send one row from the dataset to verify predictions work."
   ]
  },
  {
   "cell_type": "code",
   "execution_count": 8,
   "id": "697b257a-ca1c-405e-8a56-b38ece5e4340",
   "metadata": {
    "execution": {
     "iopub.execute_input": "2025-08-25T06:38:23.691084Z",
     "iopub.status.busy": "2025-08-25T06:38:23.690799Z",
     "iopub.status.idle": "2025-08-25T06:38:23.852195Z",
     "shell.execute_reply": "2025-08-25T06:38:23.851473Z",
     "shell.execute_reply.started": "2025-08-25T06:38:23.691060Z"
    }
   },
   "outputs": [
    {
     "name": "stdout",
     "output_type": "stream",
     "text": [
      "Raw prediction: 4.997607397150475\n"
     ]
    }
   ],
   "source": [
    "row = df.iloc[0][FEATURES].astype(float).tolist()\n",
    "payload = row\n",
    "\n",
    "try:\n",
    "    resp = predictor.predict(payload)\n",
    "    print(\"Raw prediction:\", resp)\n",
    "except Exception as e:\n",
    "    print(\"Predict failed:\", e)"
   ]
  },
  {
   "cell_type": "markdown",
   "id": "8f3fb2ea-da87-45f2-80d1-ab5dc6860a54",
   "metadata": {},
   "source": [
    "## Utility Function & Batch Test\n",
    "\n",
    "Helper for repeated predictions."
   ]
  },
  {
   "cell_type": "code",
   "execution_count": 9,
   "id": "f87a1757-7a54-47f4-90ea-8f97f9511ca6",
   "metadata": {
    "execution": {
     "iopub.execute_input": "2025-08-25T06:38:50.347397Z",
     "iopub.status.busy": "2025-08-25T06:38:50.347117Z",
     "iopub.status.idle": "2025-08-25T06:38:50.443579Z",
     "shell.execute_reply": "2025-08-25T06:38:50.442736Z",
     "shell.execute_reply.started": "2025-08-25T06:38:50.347374Z"
    }
   },
   "outputs": [
    {
     "name": "stdout",
     "output_type": "stream",
     "text": [
      "1 4.997607397150475\n",
      "2 4.924992756593689\n",
      "3 5.034663031356061\n",
      "4 5.680332591878226\n",
      "5 4.997607397150475\n"
     ]
    }
   ],
   "source": [
    "def predict_quality(features_row):\n",
    "    return float(predictor.predict(list(map(float, features_row))))\n",
    "\n",
    "# Example batch\n",
    "test = df[FEATURES].head(5).astype(float).values.tolist()\n",
    "for i, r in enumerate(test, 1):\n",
    "    print(i, predict_quality(r))"
   ]
  },
  {
   "cell_type": "markdown",
   "id": "67d2b65f-7bdd-44e5-9e80-9f5b3cea1b95",
   "metadata": {},
   "source": [
    "## Cleanup (Stop Charges)\n",
    "Always shut down the endpoint when done."
   ]
  },
  {
   "cell_type": "code",
   "execution_count": 10,
   "id": "4bc87ab1-b36e-4a51-bf29-d2b8532868cb",
   "metadata": {
    "execution": {
     "iopub.execute_input": "2025-08-25T06:39:27.899351Z",
     "iopub.status.busy": "2025-08-25T06:39:27.899085Z",
     "iopub.status.idle": "2025-08-25T06:39:28.311467Z",
     "shell.execute_reply": "2025-08-25T06:39:28.310704Z",
     "shell.execute_reply.started": "2025-08-25T06:39:27.899331Z"
    }
   },
   "outputs": [
    {
     "name": "stderr",
     "output_type": "stream",
     "text": [
      "INFO:sagemaker:Deleting endpoint configuration with name: sagemaker-scikit-learn-2025-08-25-06-33-50-639\n",
      "INFO:sagemaker:Deleting endpoint with name: sagemaker-scikit-learn-2025-08-25-06-33-50-639\n"
     ]
    }
   ],
   "source": [
    "try:\n",
    "    predictor.delete_endpoint()\n",
    "except Exception as e:\n",
    "    print(\"Cleanup note:\", e)"
   ]
  },
  {
   "cell_type": "markdown",
   "id": "0cfd5ecb-2223-43ae-b093-963d3b231fdd",
   "metadata": {},
   "source": [
    "## Results & Conclusion\n",
    "\n",
    "We successfully trained and deployed a **Linear Regression model** for predicting wine quality using the **Amazon SageMaker SKLearn container**.  \n",
    "The workflow followed these steps:\n",
    "\n",
    "1. **Data preparation** – Combined red and white wine datasets, uploaded to S3.  \n",
    "2. **Training** – Ran a custom `train.py` inside the SageMaker container.  \n",
    "3. **Deployment** – Registered the trained model with a custom `inference.py`, deployed to a real-time endpoint.  \n",
    "4. **Testing** – Performed smoke tests and batch predictions, which returned expected quality values (~5–6).  \n",
    "5. **Cleanup** – Deleted the endpoint to avoid unnecessary costs.\n",
    "\n",
    "This confirms a complete end-to-end machine learning pipeline: **train → deploy → invoke → clean up**, fully operational inside SageMaker Studio with container technology."
   ]
  }
 ],
 "metadata": {
  "kernelspec": {
   "display_name": "Python 3 (ipykernel)",
   "language": "python",
   "name": "python3"
  },
  "language_info": {
   "codemirror_mode": {
    "name": "ipython",
    "version": 3
   },
   "file_extension": ".py",
   "mimetype": "text/x-python",
   "name": "python",
   "nbconvert_exporter": "python",
   "pygments_lexer": "ipython3",
   "version": "3.12.9"
  }
 },
 "nbformat": 4,
 "nbformat_minor": 5
}
