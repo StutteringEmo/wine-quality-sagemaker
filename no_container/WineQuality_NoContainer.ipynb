{
 "cells": [
  {
   "cell_type": "markdown",
   "id": "1fa08aff-3b3b-487c-962d-2c332215e409",
   "metadata": {},
   "source": [
    "# ANA680 – Problem 2A (No Container)\n",
    "Linear Regression on the combined Wine Quality dataset (red + white) in SageMaker Studio JupyterLab."
   ]
  },
  {
   "cell_type": "code",
   "execution_count": 1,
   "id": "ef2c7ecb-75b7-4846-9faf-e8ffa653298f",
   "metadata": {
    "execution": {
     "iopub.execute_input": "2025-08-25T00:15:31.221252Z",
     "iopub.status.busy": "2025-08-25T00:15:31.220977Z",
     "iopub.status.idle": "2025-08-25T00:15:32.853845Z",
     "shell.execute_reply": "2025-08-25T00:15:32.852670Z",
     "shell.execute_reply.started": "2025-08-25T00:15:31.221229Z"
    }
   },
   "outputs": [],
   "source": [
    "# --- Imports (keep all imports here) ---\n",
    "import pandas as pd\n",
    "import numpy as np\n",
    "\n",
    "from sklearn.model_selection import train_test_split\n",
    "from sklearn.linear_model import LinearRegression\n",
    "from sklearn.metrics import mean_squared_error, r2_score\n",
    "import joblib  # if you want to save the model"
   ]
  },
  {
   "cell_type": "markdown",
   "id": "9d413318-4c34-41b1-99e6-0cb387c87f24",
   "metadata": {},
   "source": [
    "## Load & Combine Datasets\n",
    "We load both CSVs, tag them by type (for EDA only), and combine into one DataFrame."
   ]
  },
  {
   "cell_type": "code",
   "execution_count": 2,
   "id": "03ead7e2-fa9f-454f-a559-60aeec723c23",
   "metadata": {
    "execution": {
     "iopub.execute_input": "2025-08-25T00:15:39.154326Z",
     "iopub.status.busy": "2025-08-25T00:15:39.153936Z",
     "iopub.status.idle": "2025-08-25T00:15:39.206922Z",
     "shell.execute_reply": "2025-08-25T00:15:39.206152Z",
     "shell.execute_reply.started": "2025-08-25T00:15:39.154302Z"
    }
   },
   "outputs": [
    {
     "data": {
      "text/html": [
       "<div>\n",
       "<style scoped>\n",
       "    .dataframe tbody tr th:only-of-type {\n",
       "        vertical-align: middle;\n",
       "    }\n",
       "\n",
       "    .dataframe tbody tr th {\n",
       "        vertical-align: top;\n",
       "    }\n",
       "\n",
       "    .dataframe thead th {\n",
       "        text-align: right;\n",
       "    }\n",
       "</style>\n",
       "<table border=\"1\" class=\"dataframe\">\n",
       "  <thead>\n",
       "    <tr style=\"text-align: right;\">\n",
       "      <th></th>\n",
       "      <th>fixed acidity</th>\n",
       "      <th>volatile acidity</th>\n",
       "      <th>citric acid</th>\n",
       "      <th>residual sugar</th>\n",
       "      <th>chlorides</th>\n",
       "      <th>free sulfur dioxide</th>\n",
       "      <th>total sulfur dioxide</th>\n",
       "      <th>density</th>\n",
       "      <th>pH</th>\n",
       "      <th>sulphates</th>\n",
       "      <th>alcohol</th>\n",
       "      <th>quality</th>\n",
       "      <th>type</th>\n",
       "    </tr>\n",
       "  </thead>\n",
       "  <tbody>\n",
       "    <tr>\n",
       "      <th>0</th>\n",
       "      <td>7.4</td>\n",
       "      <td>0.70</td>\n",
       "      <td>0.00</td>\n",
       "      <td>1.9</td>\n",
       "      <td>0.076</td>\n",
       "      <td>11.0</td>\n",
       "      <td>34.0</td>\n",
       "      <td>0.9978</td>\n",
       "      <td>3.51</td>\n",
       "      <td>0.56</td>\n",
       "      <td>9.4</td>\n",
       "      <td>5</td>\n",
       "      <td>red</td>\n",
       "    </tr>\n",
       "    <tr>\n",
       "      <th>1</th>\n",
       "      <td>7.8</td>\n",
       "      <td>0.88</td>\n",
       "      <td>0.00</td>\n",
       "      <td>2.6</td>\n",
       "      <td>0.098</td>\n",
       "      <td>25.0</td>\n",
       "      <td>67.0</td>\n",
       "      <td>0.9968</td>\n",
       "      <td>3.20</td>\n",
       "      <td>0.68</td>\n",
       "      <td>9.8</td>\n",
       "      <td>5</td>\n",
       "      <td>red</td>\n",
       "    </tr>\n",
       "    <tr>\n",
       "      <th>2</th>\n",
       "      <td>7.8</td>\n",
       "      <td>0.76</td>\n",
       "      <td>0.04</td>\n",
       "      <td>2.3</td>\n",
       "      <td>0.092</td>\n",
       "      <td>15.0</td>\n",
       "      <td>54.0</td>\n",
       "      <td>0.9970</td>\n",
       "      <td>3.26</td>\n",
       "      <td>0.65</td>\n",
       "      <td>9.8</td>\n",
       "      <td>5</td>\n",
       "      <td>red</td>\n",
       "    </tr>\n",
       "    <tr>\n",
       "      <th>3</th>\n",
       "      <td>11.2</td>\n",
       "      <td>0.28</td>\n",
       "      <td>0.56</td>\n",
       "      <td>1.9</td>\n",
       "      <td>0.075</td>\n",
       "      <td>17.0</td>\n",
       "      <td>60.0</td>\n",
       "      <td>0.9980</td>\n",
       "      <td>3.16</td>\n",
       "      <td>0.58</td>\n",
       "      <td>9.8</td>\n",
       "      <td>6</td>\n",
       "      <td>red</td>\n",
       "    </tr>\n",
       "    <tr>\n",
       "      <th>4</th>\n",
       "      <td>7.4</td>\n",
       "      <td>0.70</td>\n",
       "      <td>0.00</td>\n",
       "      <td>1.9</td>\n",
       "      <td>0.076</td>\n",
       "      <td>11.0</td>\n",
       "      <td>34.0</td>\n",
       "      <td>0.9978</td>\n",
       "      <td>3.51</td>\n",
       "      <td>0.56</td>\n",
       "      <td>9.4</td>\n",
       "      <td>5</td>\n",
       "      <td>red</td>\n",
       "    </tr>\n",
       "  </tbody>\n",
       "</table>\n",
       "</div>"
      ],
      "text/plain": [
       "   fixed acidity  volatile acidity  citric acid  residual sugar  chlorides  \\\n",
       "0            7.4              0.70         0.00             1.9      0.076   \n",
       "1            7.8              0.88         0.00             2.6      0.098   \n",
       "2            7.8              0.76         0.04             2.3      0.092   \n",
       "3           11.2              0.28         0.56             1.9      0.075   \n",
       "4            7.4              0.70         0.00             1.9      0.076   \n",
       "\n",
       "   free sulfur dioxide  total sulfur dioxide  density    pH  sulphates  \\\n",
       "0                 11.0                  34.0   0.9978  3.51       0.56   \n",
       "1                 25.0                  67.0   0.9968  3.20       0.68   \n",
       "2                 15.0                  54.0   0.9970  3.26       0.65   \n",
       "3                 17.0                  60.0   0.9980  3.16       0.58   \n",
       "4                 11.0                  34.0   0.9978  3.51       0.56   \n",
       "\n",
       "   alcohol  quality type  \n",
       "0      9.4        5  red  \n",
       "1      9.8        5  red  \n",
       "2      9.8        5  red  \n",
       "3      9.8        6  red  \n",
       "4      9.4        5  red  "
      ]
     },
     "metadata": {},
     "output_type": "display_data"
    },
    {
     "name": "stdout",
     "output_type": "stream",
     "text": [
      "Combined shape: (6497, 13)\n"
     ]
    },
    {
     "data": {
      "text/plain": [
       "type\n",
       "white    4898\n",
       "red      1599\n",
       "Name: count, dtype: int64"
      ]
     },
     "execution_count": 2,
     "metadata": {},
     "output_type": "execute_result"
    }
   ],
   "source": [
    "# Load both CSVs (already uploaded to the working directory)\n",
    "red   = pd.read_csv(\"winequality-red.csv\",   sep=\";\")\n",
    "white = pd.read_csv(\"winequality-white.csv\", sep=\";\")\n",
    "\n",
    "# Optional: keep a 'type' column for analysis (not used for training)\n",
    "red[\"type\"]   = \"red\"\n",
    "white[\"type\"] = \"white\"\n",
    "\n",
    "# Combine\n",
    "df = pd.concat([red, white], ignore_index=True)\n",
    "\n",
    "# Quick sanity check\n",
    "display(df.head())\n",
    "print(\"Combined shape:\", df.shape)\n",
    "df[\"type\"].value_counts()"
   ]
  },
  {
   "cell_type": "markdown",
   "id": "31e891ab-aa6a-40b8-ba8e-934ca814bd16",
   "metadata": {},
   "source": [
    "## Train / Test Split\n",
    "We drop the `type` column for modeling; the target is `quality`."
   ]
  },
  {
   "cell_type": "code",
   "execution_count": 3,
   "id": "2dceb71c-d826-4610-8303-729cd8db871c",
   "metadata": {
    "execution": {
     "iopub.execute_input": "2025-08-25T00:15:41.147592Z",
     "iopub.status.busy": "2025-08-25T00:15:41.147314Z",
     "iopub.status.idle": "2025-08-25T00:15:41.165252Z",
     "shell.execute_reply": "2025-08-25T00:15:41.164501Z",
     "shell.execute_reply.started": "2025-08-25T00:15:41.147571Z"
    }
   },
   "outputs": [
    {
     "data": {
      "text/plain": [
       "((5197, 11), (1300, 11))"
      ]
     },
     "execution_count": 3,
     "metadata": {},
     "output_type": "execute_result"
    }
   ],
   "source": [
    "# Features & target\n",
    "X = df.drop(columns=[\"quality\", \"type\"])  # drop 'type' so the model learns from physicochemical features only\n",
    "y = df[\"quality\"]\n",
    "\n",
    "# Split\n",
    "X_train, X_test, y_train, y_test = train_test_split(\n",
    "    X, y, test_size=0.20, random_state=42\n",
    ")\n",
    "\n",
    "X_train.shape, X_test.shape"
   ]
  },
  {
   "cell_type": "markdown",
   "id": "c3c02d59-f30b-4be9-8b3f-0340e2334acc",
   "metadata": {},
   "source": [
    "## Train Linear Regression & Evaluate\n",
    "We fit a scikit-learn LinearRegression and report MSE, RMSE, and R²."
   ]
  },
  {
   "cell_type": "code",
   "execution_count": 4,
   "id": "0f94e175-8209-4b6c-9a45-a9619ca1c4fb",
   "metadata": {
    "execution": {
     "iopub.execute_input": "2025-08-25T00:15:46.331928Z",
     "iopub.status.busy": "2025-08-25T00:15:46.331613Z",
     "iopub.status.idle": "2025-08-25T00:15:46.408544Z",
     "shell.execute_reply": "2025-08-25T00:15:46.407655Z",
     "shell.execute_reply.started": "2025-08-25T00:15:46.331906Z"
    }
   },
   "outputs": [
    {
     "name": "stdout",
     "output_type": "stream",
     "text": [
      "MSE : 0.5467\n",
      "RMSE: 0.7394\n",
      "R²  : 0.2598\n"
     ]
    }
   ],
   "source": [
    "# Train\n",
    "lr = LinearRegression()\n",
    "lr.fit(X_train, y_train)\n",
    "\n",
    "# Predict & metrics\n",
    "y_pred = lr.predict(X_test)\n",
    "mse  = mean_squared_error(y_test, y_pred)\n",
    "rmse = np.sqrt(mse)\n",
    "r2   = r2_score(y_test, y_pred)\n",
    "\n",
    "print(f\"MSE : {mse:.4f}\")\n",
    "print(f\"RMSE: {rmse:.4f}\")\n",
    "print(f\"R²  : {r2:.4f}\")"
   ]
  },
  {
   "cell_type": "markdown",
   "id": "d5fef76d-2ddf-48e5-a692-736092ad7fe2",
   "metadata": {},
   "source": [
    "## Save Trained Model (optional)\n",
    "Saved locally in the Studio space; you can also upload to S3 if desired."
   ]
  },
  {
   "cell_type": "code",
   "execution_count": 5,
   "id": "8b852227-388f-42cd-81a9-322548a9a8ea",
   "metadata": {
    "execution": {
     "iopub.execute_input": "2025-08-25T00:15:51.636386Z",
     "iopub.status.busy": "2025-08-25T00:15:51.636105Z",
     "iopub.status.idle": "2025-08-25T00:15:51.641383Z",
     "shell.execute_reply": "2025-08-25T00:15:51.640749Z",
     "shell.execute_reply.started": "2025-08-25T00:15:51.636364Z"
    }
   },
   "outputs": [
    {
     "data": {
      "text/plain": [
       "['wine_quality_lr_no_container.pkl']"
      ]
     },
     "execution_count": 5,
     "metadata": {},
     "output_type": "execute_result"
    }
   ],
   "source": [
    "joblib.dump(lr, \"wine_quality_lr_no_container.pkl\")\n",
    "[\"wine_quality_lr_no_container.pkl\"]"
   ]
  },
  {
   "cell_type": "markdown",
   "id": "79c89a05-6db5-4588-90bb-b1b9186b7606",
   "metadata": {},
   "source": [
    "## Feature Order (for any future API/app)\n",
    "Record the feature order expected by the model’s `.predict()` so client code can send features in the correct order."
   ]
  },
  {
   "cell_type": "code",
   "execution_count": 6,
   "id": "0cc96ba8-7733-4467-aec3-01827755361c",
   "metadata": {
    "execution": {
     "iopub.execute_input": "2025-08-25T00:15:57.142130Z",
     "iopub.status.busy": "2025-08-25T00:15:57.141855Z",
     "iopub.status.idle": "2025-08-25T00:15:57.146025Z",
     "shell.execute_reply": "2025-08-25T00:15:57.145133Z",
     "shell.execute_reply.started": "2025-08-25T00:15:57.142108Z"
    }
   },
   "outputs": [
    {
     "data": {
      "text/plain": [
       "['fixed acidity',\n",
       " 'volatile acidity',\n",
       " 'citric acid',\n",
       " 'residual sugar',\n",
       " 'chlorides',\n",
       " 'free sulfur dioxide',\n",
       " 'total sulfur dioxide',\n",
       " 'density',\n",
       " 'pH',\n",
       " 'sulphates',\n",
       " 'alcohol']"
      ]
     },
     "execution_count": 6,
     "metadata": {},
     "output_type": "execute_result"
    }
   ],
   "source": [
    "feature_order = list(X.columns)\n",
    "feature_order"
   ]
  },
  {
   "cell_type": "code",
   "execution_count": null,
   "id": "0139de78-a776-4b3f-b19a-6f3ae5608ff9",
   "metadata": {},
   "outputs": [],
   "source": []
  }
 ],
 "metadata": {
  "kernelspec": {
   "display_name": "Python 3 (ipykernel)",
   "language": "python",
   "name": "python3"
  },
  "language_info": {
   "codemirror_mode": {
    "name": "ipython",
    "version": 3
   },
   "file_extension": ".py",
   "mimetype": "text/x-python",
   "name": "python",
   "nbconvert_exporter": "python",
   "pygments_lexer": "ipython3",
   "version": "3.12.9"
  }
 },
 "nbformat": 4,
 "nbformat_minor": 5
}
